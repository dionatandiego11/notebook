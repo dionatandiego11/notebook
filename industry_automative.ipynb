{
 "cells": [
  {
   "cell_type": "code",
   "execution_count": 1,
   "id": "3d8bb3ae",
   "metadata": {},
   "outputs": [],
   "source": [
    "# Importando as bibliotecas necessarias \n",
    "import sqlite3 as sql\n",
    "import pandas as pd\n",
    "import matplotlib.pyplot as plt\n",
    "import seaborn as sns\n",
    "import numpy as np\n",
    "%matplotlib inline"
   ]
  },
  {
   "cell_type": "code",
   "execution_count": 2,
   "id": "0c99200b",
   "metadata": {},
   "outputs": [],
   "source": [
    "conn = sql.connect('autos')"
   ]
  },
  {
   "cell_type": "code",
   "execution_count": 3,
   "id": "000d6a1a",
   "metadata": {},
   "outputs": [],
   "source": [
    "autos = pd.read_sql('SELECT * FROM autos', conn)"
   ]
  },
  {
   "cell_type": "code",
   "execution_count": null,
   "id": "d93e4611",
   "metadata": {},
   "outputs": [],
   "source": [
    "autos.head(n=6)"
   ]
  },
  {
   "cell_type": "code",
   "execution_count": 4,
   "id": "0bec1100",
   "metadata": {},
   "outputs": [],
   "source": [
    "autos = autos.dropna()"
   ]
  },
  {
   "cell_type": "code",
   "execution_count": null,
   "id": "0f1ecf00",
   "metadata": {},
   "outputs": [],
   "source": [
    "len(autos)"
   ]
  },
  {
   "cell_type": "code",
   "execution_count": null,
   "id": "442042dd",
   "metadata": {},
   "outputs": [],
   "source": [
    "autos.duplicated()"
   ]
  },
  {
   "cell_type": "code",
   "execution_count": 5,
   "id": "013fa391",
   "metadata": {},
   "outputs": [],
   "source": [
    "autos = autos.drop_duplicates()"
   ]
  },
  {
   "cell_type": "code",
   "execution_count": null,
   "id": "3d9eff69",
   "metadata": {},
   "outputs": [],
   "source": [
    "len(autos)"
   ]
  },
  {
   "cell_type": "code",
   "execution_count": 6,
   "id": "4083a775",
   "metadata": {},
   "outputs": [
    {
     "data": {
      "text/plain": [
       "name                  0\n",
       "price                 0\n",
       "vehicleType           0\n",
       "yearOfRegistration    0\n",
       "gearbox               0\n",
       "powerPS               0\n",
       "model                 0\n",
       "fuelType              0\n",
       "brand                 0\n",
       "dtype: int64"
      ]
     },
     "execution_count": 6,
     "metadata": {},
     "output_type": "execute_result"
    }
   ],
   "source": [
    "autos.isnull().sum()"
   ]
  },
  {
   "cell_type": "code",
   "execution_count": null,
   "id": "8d3af73d",
   "metadata": {},
   "outputs": [],
   "source": [
    "autos.dtypes"
   ]
  },
  {
   "cell_type": "code",
   "execution_count": 7,
   "id": "e08694d9",
   "metadata": {},
   "outputs": [],
   "source": [
    "#Filtrando os carros registrados após 2010\n",
    "autos = autos.query(\"yearOfRegistration>2010\")"
   ]
  },
  {
   "cell_type": "code",
   "execution_count": null,
   "id": "0177a0c3",
   "metadata": {},
   "outputs": [],
   "source": [
    "len(autos)"
   ]
  },
  {
   "cell_type": "code",
   "execution_count": 17,
   "id": "a305dbfe",
   "metadata": {},
   "outputs": [
    {
     "data": {
      "text/plain": [
       "<AxesSubplot:xlabel='yearOfRegistration', ylabel='price'>"
      ]
     },
     "execution_count": 17,
     "metadata": {},
     "output_type": "execute_result"
    },
    {
     "data": {
      "image/png": "[encoded data removed]",
      "text/plain": [
       "<Figure size 432x288 with 1 Axes>"
      ]
     },
     "metadata": {},
     "output_type": "display_data"
    }
   ],
   "source": [
    "sns.set_theme(style=\"darkgrid\")\n",
    "\n",
    "# Load an example dataset with long-form data\n",
    "#fmri = sns.load_dataset(\"autos\")\n",
    "\n",
    "# Plot the responses for different events and regions\n",
    "sns.lineplot(x=\"yearOfRegistration\", y=\"price\",\n",
    "             data=autos)"
   ]
  },
  {
   "cell_type": "code",
   "execution_count": null,
   "id": "c0a8e9d2",
   "metadata": {},
   "outputs": [],
   "source": [
    "# Initialize the matplotlib figure\n",
    "f, ax = plt.subplots(figsize=(6, 15))\n",
    "\n",
    "# Plot the total crashes\n",
    "sns.set_color_codes(\"pastel\")\n",
    "sns.barplot(x=\"price\", y=\"name\", data=autos,\n",
    "            label=\"Total\", color=\"b\")\n"
   ]
  },
  {
   "cell_type": "code",
   "execution_count": 4,
   "id": "40c77709",
   "metadata": {},
   "outputs": [],
   "source": [
    "data = (autos.groupby('brand')[\"powerPS\"].agg(lambda x: list(x)))"
   ]
  },
  {
   "cell_type": "code",
   "execution_count": 8,
   "id": "ee7d2d1c",
   "metadata": {},
   "outputs": [
    {
     "data": {
      "text/plain": [
       "Index(['alfa_romeo', 'audi', 'bmw', 'chevrolet', 'chrysler', 'citroen',\n",
       "       'dacia', 'daewoo', 'daihatsu', 'fiat', 'ford', 'honda', 'hyundai',\n",
       "       'jaguar', 'jeep', 'kia', 'lada', 'lancia', 'land_rover', 'mazda',\n",
       "       'mercedes_benz', 'mini', 'mitsubishi', 'nissan', 'opel', 'peugeot',\n",
       "       'porsche', 'renault', 'rover', 'saab', 'seat', 'skoda', 'smart',\n",
       "       'sonstige_autos', 'subaru', 'suzuki', 'toyota', 'trabant', 'volkswagen',\n",
       "       'volvo'],\n",
       "      dtype='object', name='brand')"
      ]
     },
     "execution_count": 8,
     "metadata": {},
     "output_type": "execute_result"
    }
   ],
   "source": [
    "data.index"
   ]
  },
  {
   "cell_type": "code",
   "execution_count": 6,
   "id": "8ec14b5f",
   "metadata": {},
   "outputs": [
    {
     "ename": "NameError",
     "evalue": "name 'pandas' is not defined",
     "output_type": "error",
     "traceback": [
      "\u001b[0;31m---------------------------------------------------------------------------\u001b[0m",
      "\u001b[0;31mNameError\u001b[0m                                 Traceback (most recent call last)",
      "Input \u001b[0;32mIn [6]\u001b[0m, in \u001b[0;36m<module>\u001b[0;34m\u001b[0m\n\u001b[0;32m----> 1\u001b[0m \u001b[43mpandas\u001b[49m\u001b[38;5;241m.\u001b[39mindex([\u001b[38;5;124m'\u001b[39m\u001b[38;5;124maudi\u001b[39m\u001b[38;5;124m'\u001b[39m,\u001b[38;5;124m'\u001b[39m\u001b[38;5;124mbmw\u001b[39m\u001b[38;5;124m'\u001b[39m,\u001b[38;5;124m'\u001b[39m\u001b[38;5;124mcitroen\u001b[39m\u001b[38;5;124m'\u001b[39m,\u001b[38;5;124m'\u001b[39m\u001b[38;5;124mford\u001b[39m\u001b[38;5;124m'\u001b[39m,\u001b[38;5;124m'\u001b[39m\u001b[38;5;124mmercedes_benz\u001b[39m\u001b[38;5;124m'\u001b[39m,\u001b[38;5;124m'\u001b[39m\u001b[38;5;124mopel\u001b[39m\u001b[38;5;124m'\u001b[39m,\u001b[38;5;124m'\u001b[39m\u001b[38;5;124mpeugeot\u001b[39m\u001b[38;5;124m'\u001b[39m,\u001b[38;5;124m'\u001b[39m\u001b[38;5;124mporsche\u001b[39m\u001b[38;5;124m'\u001b[39m,\u001b[38;5;124m'\u001b[39m\u001b[38;5;124mrenault\u001b[39m\u001b[38;5;124m'\u001b[39m,\u001b[38;5;124m'\u001b[39m\u001b[38;5;124mvolkswagen\u001b[39m\u001b[38;5;124m'\u001b[39m,\u001b[38;5;124m'\u001b[39m\u001b[38;5;124mmazda\u001b[39m\u001b[38;5;124m'\u001b[39m], dtype\u001b[38;5;241m=\u001b[39m\u001b[38;5;124m'\u001b[39m\u001b[38;5;124mobject\u001b[39m\u001b[38;5;124m'\u001b[39m, name\u001b[38;5;241m=\u001b[39m\u001b[38;5;124m'\u001b[39m\u001b[38;5;124mbrand\u001b[39m\u001b[38;5;124m'\u001b[39m)\n",
      "\u001b[0;31mNameError\u001b[0m: name 'pandas' is not defined"
     ]
    }
   ],
   "source": [
    "pandas.index(['audi','bmw','citroen','ford','mercedes_benz','opel','peugeot','porsche','renault','volkswagen','mazda'], dtype='object', name='brand')"
   ]
  },
  {
   "cell_type": "code",
   "execution_count": 9,
   "id": "5e54e8cb",
   "metadata": {},
   "outputs": [
    {
     "data": {
      "image/png": "[encoded data removed]",
      "text/plain": [
       "<Figure size 432x288 with 1 Axes>"
      ]
     },
     "metadata": {
      "needs_background": "light"
     },
     "output_type": "display_data"
    }
   ],
   "source": [
    "labels = data.index\n",
    "fig, ax = plt.subplots()\n",
    "# make violinplot\n",
    "ax.violinplot(data)\n",
    "# set x-axis tick labels\n",
    "ax.set_xticks(np.arange(1, len(labels) + 1), labels=labels)\n",
    "plt.xlabel(\"Species\",\n",
    "            size=14)\n",
    "plt.ylabel(\"Body Mass (g)\", \n",
    "            size=14)\n",
    "plt.title(\"Violinplot with Palmer Penguin Data\", \n",
    "            size=16)\n",
    "plt.savefig(\"Violinplot_matplotlib_python.png\",\n",
    "                    format='png',dpi=150)"
   ]
  },
  {
   "cell_type": "code",
   "execution_count": null,
   "id": "f878d959",
   "metadata": {},
   "outputs": [],
   "source": []
  }
 ],
 "metadata": {
  "kernelspec": {
   "display_name": "Python 3 (ipykernel)",
   "language": "python",
   "name": "python3"
  },
  "language_info": {
   "codemirror_mode": {
    "name": "ipython",
    "version": 3
   },
   "file_extension": ".py",
   "mimetype": "text/x-python",
   "name": "python",
   "nbconvert_exporter": "python",
   "pygments_lexer": "ipython3",
   "version": "3.9.7"
  }
 },
 "nbformat": 4,
 "nbformat_minor": 5
}
